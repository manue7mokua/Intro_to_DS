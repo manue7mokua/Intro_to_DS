{
 "cells": [
  {
   "cell_type": "code",
   "execution_count": 2,
   "metadata": {},
   "outputs": [],
   "source": [
    "import pandas as pd\n",
    "import numpy as np\n",
    "import matplotlib.pyplot as plt\n",
    "import seaborn as sns\n",
    "from datetime import datetime"
   ]
  },
  {
   "cell_type": "code",
   "execution_count": 3,
   "metadata": {},
   "outputs": [],
   "source": [
    "# Set display options for better visualization\n",
    "pd.set_option('display.max_columns', None)\n",
    "pd.set_option('display.max_rows', 100)\n",
    "pd.set_option('display.float_format', '{:.2f}'.format)"
   ]
  },
  {
   "cell_type": "markdown",
   "metadata": {},
   "source": [
    "### DATA UNDERSTANDING AND CLEANING PROCESS FOR VIRAL SOCIAL MEDIA TRENDS DATASET"
   ]
  },
  {
   "cell_type": "code",
   "execution_count": 4,
   "metadata": {},
   "outputs": [],
   "source": [
    "# Load the dataset\n",
    "df = pd.read_csv('Viral_Social_Media_Trends.csv')"
   ]
  },
  {
   "cell_type": "code",
   "execution_count": null,
   "metadata": {},
   "outputs": [],
   "source": []
  },
  {
   "cell_type": "code",
   "execution_count": 5,
   "metadata": {},
   "outputs": [
    {
     "name": "stdout",
     "output_type": "stream",
     "text": [
      "Dataset Information:\n",
      "<class 'pandas.core.frame.DataFrame'>\n",
      "RangeIndex: 5000 entries, 0 to 4999\n",
      "Data columns (total 10 columns):\n",
      " #   Column            Non-Null Count  Dtype \n",
      "---  ------            --------------  ----- \n",
      " 0   Post_ID           5000 non-null   object\n",
      " 1   Platform          5000 non-null   object\n",
      " 2   Hashtag           5000 non-null   object\n",
      " 3   Content_Type      5000 non-null   object\n",
      " 4   Region            5000 non-null   object\n",
      " 5   Views             5000 non-null   int64 \n",
      " 6   Likes             5000 non-null   int64 \n",
      " 7   Shares            5000 non-null   int64 \n",
      " 8   Comments          5000 non-null   int64 \n",
      " 9   Engagement_Level  5000 non-null   object\n",
      "dtypes: int64(4), object(6)\n",
      "memory usage: 390.8+ KB\n",
      "None\n"
     ]
    }
   ],
   "source": [
    "# Basic information about the dataset\n",
    "print(\"Dataset Information:\")\n",
    "print(df.info())"
   ]
  },
  {
   "cell_type": "code",
   "execution_count": null,
   "metadata": {},
   "outputs": [],
   "source": []
  },
  {
   "cell_type": "code",
   "execution_count": 6,
   "metadata": {},
   "outputs": [
    {
     "name": "stdout",
     "output_type": "stream",
     "text": [
      "\n",
      "Statistical Summary:\n",
      "           Views     Likes   Shares  Comments\n",
      "count    5000.00   5000.00  5000.00   5000.00\n",
      "mean  2494066.44 251475.03 50519.56  24888.39\n",
      "std   1459489.82 144349.58 29066.36  14284.50\n",
      "min      1266.00    490.00    52.00     18.00\n",
      "25%   1186207.25 126892.25 25029.00  12305.25\n",
      "50%   2497373.00 249443.00 50839.50  25004.00\n",
      "75%   3759781.00 373970.75 75774.25  37072.75\n",
      "max   4999430.00 499922.00 99978.00  49993.00\n"
     ]
    }
   ],
   "source": [
    "# Statistical summary\n",
    "print(\"\\nStatistical Summary:\")\n",
    "print(df.describe())"
   ]
  },
  {
   "cell_type": "code",
   "execution_count": null,
   "metadata": {},
   "outputs": [],
   "source": []
  },
  {
   "cell_type": "code",
   "execution_count": 7,
   "metadata": {},
   "outputs": [
    {
     "name": "stdout",
     "output_type": "stream",
     "text": [
      "\n",
      "Missing values in each column:\n",
      "Post_ID             0\n",
      "Platform            0\n",
      "Hashtag             0\n",
      "Content_Type        0\n",
      "Region              0\n",
      "Views               0\n",
      "Likes               0\n",
      "Shares              0\n",
      "Comments            0\n",
      "Engagement_Level    0\n",
      "dtype: int64\n"
     ]
    }
   ],
   "source": [
    "# Check for missing values\n",
    "print(\"\\nMissing values in each column:\")\n",
    "print(df.isnull().sum())"
   ]
  },
  {
   "cell_type": "code",
   "execution_count": 8,
   "metadata": {},
   "outputs": [
    {
     "name": "stdout",
     "output_type": "stream",
     "text": [
      "\n",
      "Number of duplicate rows: 0\n"
     ]
    }
   ],
   "source": [
    "# Check for duplicates\n",
    "print(f\"\\nNumber of duplicate rows: {df.duplicated().sum()}\")"
   ]
  },
  {
   "cell_type": "code",
   "execution_count": 9,
   "metadata": {},
   "outputs": [],
   "source": [
    "# Handle missing values in key columns\n",
    "# For Content_Type and Platform, fill with the most frequent value\n",
    "if df['Content_Type'].isnull().sum() > 0:\n",
    "    most_common_content = df['Content_Type'].mode()[0]\n",
    "    df['Content_Type'] = df['Content_Type'].fillna(most_common_content)\n",
    "    print(f\"Filled missing Content_Type values with: {most_common_content}\")\n",
    "\n",
    "if df['Platform'].isnull().sum() > 0:\n",
    "    most_common_platform = df['Platform'].mode()[0]\n",
    "    df['Platform'] = df['Platform'].fillna(most_common_platform)\n",
    "    print(f\"Filled missing Platform values with: {most_common_platform}\")\n",
    "\n",
    "# For engagement metrics, fill with median values\n",
    "engagement_metrics = ['Views', 'Likes', 'Shares', 'Comments']\n",
    "for metric in engagement_metrics:\n",
    "    if df[metric].isnull().sum() > 0:\n",
    "        median_value = df[metric].median()\n",
    "        df[metric] = df[metric].fillna(median_value)\n",
    "        print(f\"Filled missing {metric} values with median: {median_value}\")"
   ]
  },
  {
   "cell_type": "code",
   "execution_count": 10,
   "metadata": {},
   "outputs": [],
   "source": [
    "# Remove duplicates if any\n",
    "if df.duplicated().sum() > 0:\n",
    "    df = df.drop_duplicates()\n",
    "    print(f\"Removed duplicate rows. New shape: {df.shape}\")\n"
   ]
  },
  {
   "cell_type": "code",
   "execution_count": 11,
   "metadata": {},
   "outputs": [],
   "source": [
    "# Convert text columns to lowercase for consistency\n",
    "text_columns = ['Platform', 'Hashtag', 'Content_Type', 'Region', 'Engagement_Level']\n",
    "for col in text_columns:\n",
    "    df[col] = df[col].str.lower()"
   ]
  },
  {
   "cell_type": "code",
   "execution_count": 12,
   "metadata": {},
   "outputs": [],
   "source": [
    "# Standardize hashtags (remove # symbol if present)\n",
    "df['Hashtag'] = df['Hashtag'].str.replace('#', '')"
   ]
  },
  {
   "cell_type": "code",
   "execution_count": 13,
   "metadata": {},
   "outputs": [],
   "source": [
    "# Calculate additional engagement metrics\n",
    "# Total Engagement\n",
    "df['Total_Engagement'] = df['Likes'] + df['Shares'] + df['Comments']"
   ]
  },
  {
   "cell_type": "code",
   "execution_count": 14,
   "metadata": {},
   "outputs": [],
   "source": [
    "# Engagement Rate (as percentage of views)\n",
    "df['Engagement_Rate'] = (df['Total_Engagement'] / df['Views']) * 100"
   ]
  },
  {
   "cell_type": "code",
   "execution_count": 15,
   "metadata": {},
   "outputs": [],
   "source": [
    "# Identify outliers using IQR method\n",
    "numeric_columns = ['Views', 'Likes', 'Shares', 'Comments', 'Total_Engagement', 'Engagement_Rate']\n",
    "outliers_summary = {}"
   ]
  },
  {
   "cell_type": "code",
   "execution_count": 16,
   "metadata": {},
   "outputs": [
    {
     "name": "stdout",
     "output_type": "stream",
     "text": [
      "\n",
      "Column: Views\n",
      "Number of outliers: 0\n",
      "Percentage of outliers: 0.00%\n",
      "Range: [-2674153.38, 7620141.62]\n",
      "\n",
      "Column: Likes\n",
      "Number of outliers: 0\n",
      "Percentage of outliers: 0.00%\n",
      "Range: [-243725.50, 744588.50]\n",
      "\n",
      "Column: Shares\n",
      "Number of outliers: 0\n",
      "Percentage of outliers: 0.00%\n",
      "Range: [-51088.88, 151892.12]\n",
      "\n",
      "Column: Comments\n",
      "Number of outliers: 0\n",
      "Percentage of outliers: 0.00%\n",
      "Range: [-24846.00, 74224.00]\n",
      "\n",
      "Column: Total_Engagement\n",
      "Number of outliers: 0\n",
      "Percentage of outliers: 0.00%\n",
      "Range: [-170381.62, 822687.38]\n",
      "\n",
      "Column: Engagement_Rate\n",
      "Number of outliers: 595\n",
      "Percentage of outliers: 11.90%\n",
      "Range: [-21.13, 55.88]\n"
     ]
    }
   ],
   "source": [
    "for col in numeric_columns:\n",
    "    Q1 = df[col].quantile(0.25)\n",
    "    Q3 = df[col].quantile(0.75)\n",
    "    IQR = Q3 - Q1\n",
    "    \n",
    "    lower_bound = Q1 - 1.5 * IQR\n",
    "    upper_bound = Q3 + 1.5 * IQR\n",
    "    \n",
    "    outliers = df[(df[col] < lower_bound) | (df[col] > upper_bound)]\n",
    "    outliers_summary[col] = len(outliers)\n",
    "    \n",
    "    print(f\"\\nColumn: {col}\")\n",
    "    print(f\"Number of outliers: {len(outliers)}\")\n",
    "    print(f\"Percentage of outliers: {100 * len(outliers) / len(df):.2f}%\")\n",
    "    print(f\"Range: [{lower_bound:.2f}, {upper_bound:.2f}]\")"
   ]
  },
  {
   "cell_type": "code",
   "execution_count": 17,
   "metadata": {},
   "outputs": [
    {
     "name": "stdout",
     "output_type": "stream",
     "text": [
      "\n",
      "Final dataset shape: (5000, 12)\n",
      "\n",
      "Final dataset information:\n",
      "<class 'pandas.core.frame.DataFrame'>\n",
      "RangeIndex: 5000 entries, 0 to 4999\n",
      "Data columns (total 12 columns):\n",
      " #   Column            Non-Null Count  Dtype  \n",
      "---  ------            --------------  -----  \n",
      " 0   Post_ID           5000 non-null   object \n",
      " 1   Platform          5000 non-null   object \n",
      " 2   Hashtag           5000 non-null   object \n",
      " 3   Content_Type      5000 non-null   object \n",
      " 4   Region            5000 non-null   object \n",
      " 5   Views             5000 non-null   int64  \n",
      " 6   Likes             5000 non-null   int64  \n",
      " 7   Shares            5000 non-null   int64  \n",
      " 8   Comments          5000 non-null   int64  \n",
      " 9   Engagement_Level  5000 non-null   object \n",
      " 10  Total_Engagement  5000 non-null   int64  \n",
      " 11  Engagement_Rate   5000 non-null   float64\n",
      "dtypes: float64(1), int64(5), object(6)\n",
      "memory usage: 468.9+ KB\n",
      "None\n"
     ]
    }
   ],
   "source": [
    "# Final dataset summary\n",
    "print(\"\\nFinal dataset shape:\", df.shape)\n",
    "print(\"\\nFinal dataset information:\")\n",
    "print(df.info())"
   ]
  },
  {
   "cell_type": "code",
   "execution_count": 18,
   "metadata": {},
   "outputs": [
    {
     "name": "stdout",
     "output_type": "stream",
     "text": [
      "\n",
      "Remaining missing values:\n",
      "Post_ID             0\n",
      "Platform            0\n",
      "Hashtag             0\n",
      "Content_Type        0\n",
      "Region              0\n",
      "Views               0\n",
      "Likes               0\n",
      "Shares              0\n",
      "Comments            0\n",
      "Engagement_Level    0\n",
      "Total_Engagement    0\n",
      "Engagement_Rate     0\n",
      "dtype: int64\n"
     ]
    }
   ],
   "source": [
    "# Check if there are any remaining missing values\n",
    "print(\"\\nRemaining missing values:\")\n",
    "print(df.isnull().sum())"
   ]
  },
  {
   "cell_type": "code",
   "execution_count": 56,
   "metadata": {},
   "outputs": [
    {
     "name": "stdout",
     "output_type": "stream",
     "text": [
      "Cleaned dataset saved as 'Viral_Social_Media_Trends_Cleaned.csv'\n"
     ]
    }
   ],
   "source": [
    "# Save the cleaned dataset\n",
    "df.to_csv('Viral_Social_Media_Trends_Cleaned.csv', index=False)\n",
    "print(\"Cleaned dataset saved as 'Viral_Social_Media_Trends_Cleaned.csv'\")"
   ]
  },
  {
   "cell_type": "code",
   "execution_count": null,
   "metadata": {},
   "outputs": [],
   "source": []
  }
 ],
 "metadata": {
  "kernelspec": {
   "display_name": "Python 3 (ipykernel)",
   "language": "python",
   "name": "python3"
  },
  "language_info": {
   "codemirror_mode": {
    "name": "ipython",
    "version": 3
   },
   "file_extension": ".py",
   "mimetype": "text/x-python",
   "name": "python",
   "nbconvert_exporter": "python",
   "pygments_lexer": "ipython3",
   "version": "3.12.7"
  }
 },
 "nbformat": 4,
 "nbformat_minor": 4
}
